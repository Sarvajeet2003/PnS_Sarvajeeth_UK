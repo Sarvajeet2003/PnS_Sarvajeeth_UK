{
  "nbformat": 4,
  "nbformat_minor": 0,
  "metadata": {
    "colab": {
      "name": "Sarvajeeth U K.ipynb",
      "provenance": [],
      "collapsed_sections": [],
      "authorship_tag": "ABX9TyMDTK68goC+6PwkO6wcKTSR",
      "include_colab_link": true
    },
    "kernelspec": {
      "name": "python3",
      "display_name": "Python 3"
    },
    "language_info": {
      "name": "python"
    }
  },
  "cells": [
    {
      "cell_type": "markdown",
      "metadata": {
        "id": "view-in-github",
        "colab_type": "text"
      },
      "source": [
        "<a href=\"https://colab.research.google.com/github/Sarvajeet2003/PnS_Sarvajeeth_UK/blob/main/Sarvajeeth_U_K.ipynb\" target=\"_parent\"><img src=\"https://colab.research.google.com/assets/colab-badge.svg\" alt=\"Open In Colab\"/></a>"
      ]
    },
    {
      "cell_type": "code",
      "source": [
        "#@title 1. Generate 100 samples that are uniformly distributed over (0,1). Plot a histogram of the samples. Also, plot an empirical CDF\n",
        "\n",
        "import numpy as np\n",
        "import matplotlib.pyplot as plt\n",
        "\n",
        "#Generate 100 samples that are uniformly distributed over (0,1).\n",
        "data = np.random.uniform(0,1,100)\n",
        "\n",
        "count, bins, ignored = plt.hist(data, 10)\n",
        "\n",
        "pdf = count / sum(count)\n",
        "cdf = np.cumsum(pdf)\n",
        "plt.plot(bins[1:], cdf, label=\"CDF\")\n",
        "#plt.plot(bins, np.ones_like(bins), linewidth=2, color='r')\n",
        "plt.legend()\n",
        "plt.show()"
      ],
      "metadata": {
        "id": "Ftw3vMep9P_1",
        "colab": {
          "base_uri": "https://localhost:8080/",
          "height": 265
        },
        "outputId": "57ba926a-8b3c-4203-faf3-3e5400c3cc2f"
      },
      "execution_count": 5,
      "outputs": [
        {
          "output_type": "display_data",
          "data": {
            "text/plain": [
              "<Figure size 432x288 with 1 Axes>"
            ],
            "image/png": "[encoded data removed]"
          },
          "metadata": {
            "needs_background": "light"
          }
        }
      ]
    },
    {
      "cell_type": "code",
      "source": [
        "#@title 2. Generate 100 samples that are uniformly distributed over (75,110). Plot a histogram of the samples. Also, plot an empirical CDF\n",
        "\n",
        "import numpy as np\n",
        "import matplotlib.pyplot as plt\n",
        "\n",
        "\n",
        "data = np.random.uniform(75,110,100)\n",
        "print(sorted(data))\n",
        "count, bins, ignored = plt.hist(data, 100 )\n",
        "pdf = count / sum(count)\n",
        "cdf = np.cumsum(pdf)\n",
        "plt.plot(bins[1:], cdf, label=\"CDF\")\n",
        "#plt.plot(bins, np.ones_like(bins), linewidth=2, color='r')\n",
        "plt.legend()\n",
        "plt.show()"
      ],
      "metadata": {
        "colab": {
          "base_uri": "https://localhost:8080/",
          "height": 303
        },
        "id": "AztayROaFHGl",
        "outputId": "caa448e6-d0e9-4c1e-f4b3-40c3f9220594"
      },
      "execution_count": 6,
      "outputs": [
        {
          "output_type": "stream",
          "name": "stdout",
          "text": [
            "[75.53025987456473, 76.91214392529089, 77.3695562902062, 77.38243345919321, 77.41395523568703, 77.56360329155292, 78.18164554412508, 78.70904271069607, 79.91039175477664, 80.07258828152703, 80.62531612940143, 80.8505913161497, 80.94541716688515, 80.97555174495886, 81.0063930869521, 81.05413670348143, 81.2925497669985, 81.43838934430794, 81.49935951260528, 81.86218740779053, 82.10090664781389, 82.56005418996834, 82.73826388238864, 83.31817544486746, 83.4602069181951, 84.82937765126434, 85.08508904557848, 85.42325527955988, 85.75439503300028, 86.47344688197083, 86.56916560539577, 86.80860408395733, 86.91883917346046, 87.38411993423712, 88.76043161608183, 88.8649239174137, 89.03088253878315, 89.0998514295538, 89.10658434702762, 89.32188917353548, 89.32438050849817, 89.33837619436514, 89.49208368848079, 89.751968917863, 89.9754018513843, 90.01602438247534, 90.09230307649896, 90.18808062894685, 90.37041115883373, 90.58165593281458, 90.59170007955655, 90.62189512714116, 92.39601280564226, 92.8390178633289, 92.90541144665443, 92.9870882954556, 93.30273560004537, 93.57030619768267, 93.60341982529265, 93.93383346286913, 94.18309679190402, 94.61340586054638, 94.83038848868375, 95.16409973052629, 95.83544698520448, 96.6205814829294, 96.71746648963455, 96.98921428167505, 97.403506550897, 97.56567422481984, 97.70547804164636, 97.8572704306783, 98.50428516693474, 98.7018560085044, 99.63262584109002, 100.35695748290307, 101.11048233608443, 101.46799672187717, 101.4825735934973, 101.5105758011797, 101.64214890628728, 103.64883162447273, 103.67669134811781, 103.84016486691499, 104.25313516306696, 104.93400386395571, 104.97132966004287, 105.05571504333804, 106.17721667311642, 106.6214365013929, 106.87306125637106, 106.91648441002584, 107.22847726631261, 107.60310049229452, 108.77564566891971, 108.79594192357399, 109.55511477833883, 109.68347233016611, 109.70297275294423, 109.8998804605094]\n"
          ]
        },
        {
          "output_type": "display_data",
          "data": {
            "text/plain": [
              "<Figure size 432x288 with 1 Axes>"
            ],
            "image/png": "[encoded data removed]"
          },
          "metadata": {
            "needs_background": "light"
          }
        }
      ]
    },
    {
      "cell_type": "code",
      "source": [
        "# @title 3. Write a function that uses the uniform distribution (0,1) to generate m samples from a Bernoulli RV with parameter p as input.\n",
        "m = int(input())\n",
        "p = float(input())\n",
        "\n",
        "import matplotlib.pyplot as plt\n",
        "from scipy.stats import uniform\n",
        "import numpy as np\n",
        "\n",
        "data_uniform = uniform.rvs(size=m, loc=0, scale=1)\n",
        "#print(data_uniform)\n",
        "bernoulli = np.where(data_uniform < p, 1, 0)\n",
        "\n",
        "bin_edges = np.arange(bernoulli.min()-0.5, bernoulli.max()+1.5, 1)\n",
        "plt.hist(bernoulli, bins = bin_edges, rwidth = 0.8)\n",
        "plt.xticks(np.arange(bernoulli.min(), bernoulli.max()+1, 1))\n",
        "plt.xlabel('value')\n",
        "plt.ylabel('frequency')\n",
        "plt.show()"
      ],
      "metadata": {
        "colab": {
          "base_uri": "https://localhost:8080/",
          "height": 315
        },
        "id": "5mMNtnGyFPvr",
        "outputId": "142948b8-0543-4b05-a3be-e46be015dbed"
      },
      "execution_count": 17,
      "outputs": [
        {
          "name": "stdout",
          "output_type": "stream",
          "text": [
            "1000\n",
            "2.5\n"
          ]
        },
        {
          "output_type": "display_data",
          "data": {
            "text/plain": [
              "<Figure size 432x288 with 1 Axes>"
            ],
            "image/png": "[encoded data removed]"
          },
          "metadata": {
            "needs_background": "light"
          }
        }
      ]
    },
    {
      "cell_type": "code",
      "source": [
        "# @title 4. Write a function (starting from uniform rand (0,1) or preferably the Q3 implementation of the Bern RV) that generates m samples from a geometric RV with parameter p as input.\n",
        "m = int(input())\n",
        "p = float(input())\n",
        "geometric = np.empty(m, dtype = int)\n",
        "for i in range(m):\n",
        "  x = 0\n",
        "  val = 0\n",
        "  while x == 0:\n",
        "    val = val+1\n",
        "    data_uniform = uniform.rvs(size=1, loc=0, scale=1)\n",
        "    # print(data_uniform[0])\n",
        "    if data_uniform[0] < p:\n",
        "      x = 1\n",
        "  geometric[i] = val\n",
        "\n",
        "bin_edges = np.arange(geometric.min()-0.5, geometric.max()+1.5, 1)\n",
        "plt.hist(geometric, bins = bin_edges, rwidth = 0.8)\n",
        "plt.xticks(np.arange(geometric.min(), geometric.max()+1, 1))\n",
        "plt.xlabel('value')\n",
        "plt.ylabel('frequency')\n",
        "plt.show()"
      ],
      "metadata": {
        "colab": {
          "base_uri": "https://localhost:8080/",
          "height": 315
        },
        "id": "RuWkYRstFvBH",
        "outputId": "a06d3791-16a8-498b-dcfc-254b5adb979b"
      },
      "execution_count": 9,
      "outputs": [
        {
          "name": "stdout",
          "output_type": "stream",
          "text": [
            "1000\n",
            "0.7\n"
          ]
        },
        {
          "output_type": "display_data",
          "data": {
            "text/plain": [
              "<Figure size 432x288 with 1 Axes>"
            ],
            "image/png": "[encoded data removed]"
          },
          "metadata": {
            "needs_background": "light"
          }
        }
      ]
    },
    {
      "cell_type": "code",
      "source": [
        "# @title 5. Write a function that generates m samples from a binomial RV with parameters (n,p) as inputs. Starting from uniform rand (0,1) or preferably the Q3 implementation of the Bern RV.\n",
        "m = int(input())\n",
        "n = int(input())\n",
        "p = float(input())\n",
        "\n",
        "import matplotlib.pyplot as plt\n",
        "from scipy.stats import uniform\n",
        "import numpy as np\n",
        "\n",
        "binomial = np.empty(m, dtype=int)\n",
        "\n",
        "for i in range(m):\n",
        "  data_uniform = uniform.rvs(size=n, loc=0, scale=1)  # 0.5 0.4 ...\n",
        "  bernoulli = np.where(data_uniform < p, 1, 0)  # 0 1 1 0 1\n",
        "  binomial[i] = np.sum(bernoulli) # 3\n",
        "  \n",
        "bin_edges = np.arange(binomial.min()-0.5, binomial.max()+1.5, 1)\n",
        "plt.hist(binomial, bins = bin_edges, rwidth = 0.8)\n",
        "plt.xticks(np.arange(binomial.min(), binomial.max()+1, 1))\n",
        "plt.xlabel('value')\n",
        "plt.ylabel('frequency')\n",
        "plt.show()"
      ],
      "metadata": {
        "colab": {
          "base_uri": "https://localhost:8080/",
          "height": 333
        },
        "id": "oJnr0DW1Gha4",
        "outputId": "b26dace4-5d04-400f-d7b5-e87332e20750"
      },
      "execution_count": 10,
      "outputs": [
        {
          "name": "stdout",
          "output_type": "stream",
          "text": [
            "1000\n",
            "10\n",
            "0.7\n"
          ]
        },
        {
          "output_type": "display_data",
          "data": {
            "text/plain": [
              "<Figure size 432x288 with 1 Axes>"
            ],
            "image/png": "[encoded data removed]"
          },
          "metadata": {
            "needs_background": "light"
          }
        }
      ]
    },
    {
      "cell_type": "code",
      "source": [
        "# @title 6. Write a function that generates m samples from a Poisson RV with parameter \\alpha as input.\n",
        "m = int(input())\n",
        "alpha = float(input())\n",
        "from scipy.stats import poisson\n",
        "import matplotlib.pyplot as plt\n",
        "\n",
        "rv = poisson.rvs(alpha, size = m)\n",
        "\n",
        "bin_edges = np.arange(rv.min()-0.5, rv.max()+1.5, 1)\n",
        "plt.hist(rv, bins = bin_edges, rwidth = 0.8)\n",
        "plt.xticks(np.arange(rv.min(), rv.max()+1, 1))\n",
        "plt.xlabel('value')\n",
        "plt.ylabel('frequency')\n",
        "plt.show()"
      ],
      "metadata": {
        "colab": {
          "base_uri": "https://localhost:8080/",
          "height": 318
        },
        "id": "R9UKN13rFKPD",
        "outputId": "e563068a-9142-44b8-e757-65be46b89b9b"
      },
      "execution_count": 11,
      "outputs": [
        {
          "name": "stdout",
          "output_type": "stream",
          "text": [
            "1000\n",
            "1.5\n"
          ]
        },
        {
          "output_type": "display_data",
          "data": {
            "text/plain": [
              "<Figure size 432x288 with 1 Axes>"
            ],
            "image/png": "[encoded data removed]"
          },
          "metadata": {
            "needs_background": "light"
          }
        }
      ]
    },
    {
      "cell_type": "code",
      "source": [
        "#  @title 7. Write a function that generates m samples from a Gaussian RV with mean and std deviation as input.\n",
        "from matplotlib import pyplot as mp\n",
        "import random\n",
        "import numpy as np\n",
        "\n",
        "m=int(input())\n",
        "mu=float(input())\n",
        "sig=float(input())\n",
        "\n",
        "nums=[]\n",
        "for i in range(m): \n",
        "    nums.append(random.gauss(mu, sig)) \n",
        "# print(nums)       \n",
        "mp.hist(nums, bins= 100) \n",
        "mp.show()"
      ],
      "metadata": {
        "colab": {
          "base_uri": "https://localhost:8080/",
          "height": 319
        },
        "id": "r-FSqMfSHTVZ",
        "outputId": "f32ea982-d8dc-4395-abe1-005dc046a14f"
      },
      "execution_count": 12,
      "outputs": [
        {
          "name": "stdout",
          "output_type": "stream",
          "text": [
            "1000\n",
            "0\n",
            "2\n"
          ]
        },
        {
          "output_type": "display_data",
          "data": {
            "text/plain": [
              "<Figure size 432x288 with 1 Axes>"
            ],
            "image/png": "[encoded data removed]"
          },
          "metadata": {
            "needs_background": "light"
          }
        }
      ]
    },
    {
      "cell_type": "code",
      "source": [
        "#@title 8. Write a function that generates m samples from an exponential RV with the rate parameter as input. { display-mode: \"form\" }\n",
        "from matplotlib import pyplot as mp\n",
        "from numpy import random \n",
        "\n",
        "m=int(input())\n",
        "lda=float(input())\n",
        "\n",
        "# print(data)\n",
        "data = random.exponential(1.0/lda, size=m)\n",
        "mp.hist(data, bins = 100) \n",
        "mp.show()"
      ],
      "metadata": {
        "colab": {
          "base_uri": "https://localhost:8080/",
          "height": 301
        },
        "id": "BLuan2TmHcLB",
        "outputId": "788cfe69-2e88-4f87-c79a-1056b7952615"
      },
      "execution_count": 13,
      "outputs": [
        {
          "name": "stdout",
          "output_type": "stream",
          "text": [
            "1000\n",
            "2\n"
          ]
        },
        {
          "output_type": "display_data",
          "data": {
            "text/plain": [
              "<Figure size 432x288 with 1 Axes>"
            ],
            "image/png": "[encoded data removed]"
          },
          "metadata": {
            "needs_background": "light"
          }
        }
      ]
    },
    {
      "cell_type": "code",
      "source": [
        "# @title 9. Generate m=1, 2,..., 1000 samples from the Bernoulli RV (use the function created for the question above) and plot the sample mean for each m. Alongside also plot the parameter p of the Bernoulli RV. Do you see the sample mean converge to the expected value of the Bernoulli RV? For what smallest value of m has the sample mean more or less converged to the parameter of the Bernoulli RV?\n",
        "m = int(input())\n",
        "p = float(input())\n",
        "from scipy.stats import bernoulli\n",
        "import matplotlib.pyplot as plt\n",
        "import random\n",
        "import numpy as np\n",
        "\n",
        "def get_bernoulli(a, m):\n",
        "  data_bern = bernoulli.rvs(size=m, p=a)\n",
        "  return data_bern\n",
        "\n",
        "x = [i for i in range(1,m+1)]\n",
        "y = []\n",
        "\n",
        "bern = get_bernoulli(p, m)\n",
        "\n",
        "bern\n",
        "\n",
        "\n",
        "\n",
        "for i in range(1,m+1):\n",
        "  y.append(sum(bern[:i])/i)\n",
        "\n",
        "y\n",
        "\n",
        "\n",
        "\n",
        "plt.ylim(0,1)\n",
        "plt.plot(x,y)\n",
        "plt.xlabel('Samples')\n",
        "plt.ylabel('sample mean')\n",
        "plt.show()\n",
        "\n",
        "\n",
        "\n",
        "\n",
        "\n",
        "plt.plot(x,bern)\n",
        "plt.xlabel('Samples')\n",
        "plt.ylabel('p')\n",
        "plt.show()"
      ],
      "metadata": {
        "colab": {
          "base_uri": "https://localhost:8080/",
          "height": 581
        },
        "id": "17oNnDO1Hg-2",
        "outputId": "87b2bb76-8834-4642-d1c0-732f4eb8bddd"
      },
      "execution_count": 14,
      "outputs": [
        {
          "name": "stdout",
          "output_type": "stream",
          "text": [
            "1000\n",
            "0.7\n"
          ]
        },
        {
          "output_type": "display_data",
          "data": {
            "text/plain": [
              "<Figure size 432x288 with 1 Axes>"
            ],
            "image/png": "[encoded data removed]"
          },
          "metadata": {
            "needs_background": "light"
          }
        },
        {
          "output_type": "display_data",
          "data": {
            "text/plain": [
              "<Figure size 432x288 with 1 Axes>"
            ],
            "image/png": "[encoded data removed]"
          },
          "metadata": {
            "needs_background": "light"
          }
        }
      ]
    }
  ]
}